{
 "cells": [
  {
   "cell_type": "code",
   "outputs": [
    {
     "name": "stdout",
     "output_type": "stream",
     "text": [
      "shape: (6, 37)\n",
      "┌───────────┬───────────┬───────────┬───────────┬───┬───────────┬──────────┬───────────┬───────────┐\n",
      "│ mnasnet0_ ┆ mnasnet0_ ┆ mnasnet1_ ┆ mnasnet1_ ┆ … ┆ shufflene ┆ gpu_name ┆ task_type ┆ precision │\n",
      "│ 5         ┆ 75        ┆ 0         ┆ 3         ┆   ┆ t_v2_x2_0 ┆ ---      ┆ ---       ┆ ---       │\n",
      "│ ---       ┆ ---       ┆ ---       ┆ ---       ┆   ┆ ---       ┆ str      ┆ str       ┆ str       │\n",
      "│ f64       ┆ f64       ┆ f64       ┆ f64       ┆   ┆ f64       ┆          ┆           ┆           │\n",
      "╞═══════════╪═══════════╪═══════════╪═══════════╪═══╪═══════════╪══════════╪═══════════╪═══════════╡\n",
      "│ 25.7      ┆ 29.97     ┆ 33.77     ┆ 42.02     ┆ … ┆ 25.01     ┆ 6800XT   ┆ train     ┆ half      │\n",
      "│ 31.87     ┆ 37.31     ┆ 41.58     ┆ 52.79     ┆ … ┆ 30.1      ┆ 6800XT   ┆ train     ┆ float     │\n",
      "│ 95.09     ┆ 109.37    ┆ 121.58    ┆ 143.09    ┆ … ┆ 99.83     ┆ 6800XT   ┆ train     ┆ double    │\n",
      "│ 5.84      ┆ 7.31      ┆ 6.82      ┆ 8.68      ┆ … ┆ 6.66      ┆ 6800XT   ┆ inference ┆ half      │\n",
      "│ 9.07      ┆ 8.46      ┆ 9.51      ┆ 14.05     ┆ … ┆ 10.14     ┆ 6800XT   ┆ inference ┆ float     │\n",
      "│ 13.45     ┆ 18.79     ┆ 22.48     ┆ 29.68     ┆ … ┆ 27.3      ┆ 6800XT   ┆ inference ┆ double    │\n",
      "└───────────┴───────────┴───────────┴───────────┴───┴───────────┴──────────┴───────────┴───────────┘\n"
     ]
    }
   ],
   "source": [
    "import os\n",
    "import polars as pl\n",
    "\n",
    "def get_df(gpu_name, folder: str):\n",
    "    paths = os.listdir(folder)\n",
    "    df_list = []\n",
    "    for path in paths:\n",
    "        for task_type in task_types:\n",
    "            for pcs in precisions:            \n",
    "                if pcs in path and task_type in path and '1_gpus' in path:\n",
    "                    srs = pl.read_csv(os.path.join(folder, path)).mean().with_columns(\n",
    "                        pl.all().round(2),\n",
    "                        pl.lit(gpu_name).alias('gpu_name'),\n",
    "                        pl.lit(task_type).alias('task_type'),\n",
    "                        pl.lit(pcs).alias('precision'),\n",
    "                        )                                   \n",
    "                    df_list.append(srs)\n",
    "    return pl.concat(df_list).sort(by=['task_type', 'precision'], descending=True)\n",
    "                \n",
    "\n",
    "my_gpu_name = \"6800XT\"\n",
    "my_folder = \"result\"\n",
    "other_gpu_names = [\"2060\", #\"2080TI\", \n",
    "                   \"2080ti(2)\", \"3090\", \"4060Ti16GB\"]\n",
    "task_types = ['train', 'inference']\n",
    "precisions = ['double', 'float', 'half']\n",
    "exclude_cols = ['gpu_name', 'task_type', 'precision']\n",
    "\n",
    "my_df = get_df(my_gpu_name, my_folder)\n",
    "print(my_df)"
   ],
   "metadata": {
    "collapsed": false,
    "ExecuteTime": {
     "end_time": "2024-03-07T08:44:12.984448Z",
     "start_time": "2024-03-07T08:44:12.974493Z"
    }
   },
   "id": "initial_id",
   "execution_count": 55
  },
  {
   "cell_type": "code",
   "outputs": [
    {
     "name": "stdout",
     "output_type": "stream",
     "text": [
      "2060 / 6800XT comp_df = shape: (6, 68)\n",
      "┌───────────┬───────────┬───────────┬───────────┬───┬───────────┬───────────┬───────────┬──────────┐\n",
      "│ mnasnet0_ ┆ mnasnet0_ ┆ mnasnet1_ ┆ mnasnet1_ ┆ … ┆ mean_hori ┆ gpu_name  ┆ task_type ┆ precisio │\n",
      "│ 5         ┆ 75        ┆ 0         ┆ 3         ┆   ┆ zontal    ┆ ---       ┆ ---       ┆ n        │\n",
      "│ ---       ┆ ---       ┆ ---       ┆ ---       ┆   ┆ ---       ┆ str       ┆ str       ┆ ---      │\n",
      "│ f64       ┆ f64       ┆ f64       ┆ f64       ┆   ┆ f64       ┆           ┆           ┆ str      │\n",
      "╞═══════════╪═══════════╪═══════════╪═══════════╪═══╪═══════════╪═══════════╪═══════════╪══════════╡\n",
      "│ 1.668093  ┆ 1.597598  ┆ 1.464614  ┆ 1.323417  ┆ … ┆ 2.373916  ┆ 2060 /    ┆ train     ┆ half     │\n",
      "│           ┆           ┆           ┆           ┆   ┆           ┆ 6800XT    ┆           ┆          │\n",
      "│ 1.341073  ┆ 1.397481  ┆ 1.458393  ┆ 1.318053  ┆ … ┆ 2.296023  ┆ 2060 /    ┆ train     ┆ float    │\n",
      "│           ┆           ┆           ┆           ┆   ┆           ┆ 6800XT    ┆           ┆          │\n",
      "│ 1.228205  ┆ 1.760538  ┆ 1.979849  ┆ 2.396604  ┆ … ┆ 8.169714  ┆ 2060 /    ┆ train     ┆ double   │\n",
      "│           ┆           ┆           ┆           ┆   ┆           ┆ 6800XT    ┆           ┆          │\n",
      "│ 2.162671  ┆ 1.726402  ┆ 2.033724  ┆ 1.539171  ┆ … ┆ 2.58586   ┆ 2060 /    ┆ inference ┆ half     │\n",
      "│           ┆           ┆           ┆           ┆   ┆           ┆ 6800XT    ┆           ┆          │\n",
      "│ 1.335171  ┆ 1.527187  ┆ 1.574132  ┆ 1.268327  ┆ … ┆ 2.236334  ┆ 2060 /    ┆ inference ┆ float    │\n",
      "│           ┆           ┆           ┆           ┆   ┆           ┆ 6800XT    ┆           ┆          │\n",
      "│ 2.133829  ┆ 2.508249  ┆ 2.70952   ┆ 3.269879  ┆ … ┆ 5.74349   ┆ 2060 /    ┆ inference ┆ double   │\n",
      "│           ┆           ┆           ┆           ┆   ┆           ┆ 6800XT    ┆           ┆          │\n",
      "└───────────┴───────────┴───────────┴───────────┴───┴───────────┴───────────┴───────────┴──────────┘\n",
      "2080ti(2) / 6800XT comp_df = shape: (6, 68)\n",
      "┌───────────┬───────────┬───────────┬───────────┬───┬───────────┬───────────┬───────────┬──────────┐\n",
      "│ densenet1 ┆ densenet1 ┆ densenet1 ┆ densenet2 ┆ … ┆ mean_hori ┆ gpu_name  ┆ task_type ┆ precisio │\n",
      "│ 21        ┆ 61        ┆ 69        ┆ 01        ┆   ┆ zontal    ┆ ---       ┆ ---       ┆ n        │\n",
      "│ ---       ┆ ---       ┆ ---       ┆ ---       ┆   ┆ ---       ┆ str       ┆ str       ┆ ---      │\n",
      "│ f64       ┆ f64       ┆ f64       ┆ f64       ┆   ┆ f64       ┆           ┆           ┆ str      │\n",
      "╞═══════════╪═══════════╪═══════════╪═══════════╪═══╪═══════════╪═══════════╪═══════════╪══════════╡\n",
      "│ 2.914786  ┆ 3.822155  ┆ 3.313888  ┆ 3.338886  ┆ … ┆ 1.631089  ┆ 2080ti(2) ┆ train     ┆ half     │\n",
      "│           ┆           ┆           ┆           ┆   ┆           ┆ / 6800XT  ┆           ┆          │\n",
      "│ 2.881393  ┆ 3.63093   ┆ 2.835498  ┆ 2.666225  ┆ … ┆ 1.627944  ┆ 2080ti(2) ┆ train     ┆ float    │\n",
      "│           ┆           ┆           ┆           ┆   ┆           ┆ / 6800XT  ┆           ┆          │\n",
      "│ 7.045851  ┆ 19.906281 ┆ 6.693946  ┆ 7.236564  ┆ … ┆ 11.792835 ┆ 2080ti(2) ┆ train     ┆ double   │\n",
      "│           ┆           ┆           ┆           ┆   ┆           ┆ / 6800XT  ┆           ┆          │\n",
      "│ 2.791096  ┆ 3.528044  ┆ 3.806452  ┆ 3.038018  ┆ … ┆ 1.529487  ┆ 2080ti(2) ┆ inference ┆ half     │\n",
      "│           ┆           ┆           ┆           ┆   ┆           ┆ / 6800XT  ┆           ┆          │\n",
      "│ 2.123484  ┆ 4.682033  ┆ 2.592008  ┆ 2.250534  ┆ … ┆ 1.354027  ┆ 2080ti(2) ┆ inference ┆ float    │\n",
      "│           ┆           ┆           ┆           ┆   ┆           ┆ / 6800XT  ┆           ┆          │\n",
      "│ 17.75316  ┆ 54.742948 ┆ 13.107206 ┆ 12.664757 ┆ … ┆ 26.798169 ┆ 2080ti(2) ┆ inference ┆ double   │\n",
      "│           ┆           ┆           ┆           ┆   ┆           ┆ / 6800XT  ┆           ┆          │\n",
      "└───────────┴───────────┴───────────┴───────────┴───┴───────────┴───────────┴───────────┴──────────┘\n",
      "3090 / 6800XT comp_df = shape: (6, 68)\n",
      "┌───────────┬───────────┬───────────┬───────────┬───┬───────────┬───────────┬───────────┬──────────┐\n",
      "│ mnasnet0_ ┆ mnasnet0_ ┆ mnasnet1_ ┆ mnasnet1_ ┆ … ┆ mean_hori ┆ gpu_name  ┆ task_type ┆ precisio │\n",
      "│ 5         ┆ 75        ┆ 0         ┆ 3         ┆   ┆ zontal    ┆ ---       ┆ ---       ┆ n        │\n",
      "│ ---       ┆ ---       ┆ ---       ┆ ---       ┆   ┆ ---       ┆ str       ┆ str       ┆ ---      │\n",
      "│ f64       ┆ f64       ┆ f64       ┆ f64       ┆   ┆ f64       ┆           ┆           ┆ str      │\n",
      "╞═══════════╪═══════════╪═══════════╪═══════════╪═══╪═══════════╪═══════════╪═══════════╪══════════╡\n",
      "│ 1.048249  ┆ 1.020354  ┆ 0.984306  ┆ 0.803903  ┆ … ┆ 1.077854  ┆ 3090 /    ┆ train     ┆ half     │\n",
      "│           ┆           ┆           ┆           ┆   ┆           ┆ 6800XT    ┆           ┆          │\n",
      "│ 0.897082  ┆ 0.785848  ┆ 0.743386  ┆ 0.646145  ┆ … ┆ 0.939424  ┆ 3090 /    ┆ train     ┆ float    │\n",
      "│           ┆           ┆           ┆           ┆   ┆           ┆ 6800XT    ┆           ┆          │\n",
      "│ 0.667368  ┆ 0.833318  ┆ 0.877036  ┆ 0.980082  ┆ … ┆ 1.866881  ┆ 3090 /    ┆ train     ┆ double   │\n",
      "│           ┆           ┆           ┆           ┆   ┆           ┆ 6800XT    ┆           ┆          │\n",
      "│ 1.09589   ┆ 0.997264  ┆ 1.045455  ┆ 0.864055  ┆ … ┆ 1.063722  ┆ 3090 /    ┆ inference ┆ half     │\n",
      "│           ┆           ┆           ┆           ┆   ┆           ┆ 6800XT    ┆           ┆          │\n",
      "│ 0.732084  ┆ 0.764775  ┆ 0.677182  ┆ 0.452669  ┆ … ┆ 0.742818  ┆ 3090 /    ┆ inference ┆ float    │\n",
      "│           ┆           ┆           ┆           ┆   ┆           ┆ 6800XT    ┆           ┆          │\n",
      "│ 1.089963  ┆ 1.213944  ┆ 1.270463  ┆ 1.291779  ┆ … ┆ 2.198012  ┆ 3090 /    ┆ inference ┆ double   │\n",
      "│           ┆           ┆           ┆           ┆   ┆           ┆ 6800XT    ┆           ┆          │\n",
      "└───────────┴───────────┴───────────┴───────────┴───┴───────────┴───────────┴───────────┴──────────┘\n",
      "4060Ti16GB / 6800XT comp_df = shape: (6, 72)\n",
      "┌───────────┬───────────┬───────────┬───────────┬───┬───────────┬───────────┬───────────┬──────────┐\n",
      "│ mnasnet0_ ┆ mnasnet0_ ┆ mnasnet1_ ┆ mnasnet1_ ┆ … ┆ mean_hori ┆ gpu_name  ┆ task_type ┆ precisio │\n",
      "│ 5         ┆ 75        ┆ 0         ┆ 3         ┆   ┆ zontal    ┆ ---       ┆ ---       ┆ n        │\n",
      "│ ---       ┆ ---       ┆ ---       ┆ ---       ┆   ┆ ---       ┆ str       ┆ str       ┆ ---      │\n",
      "│ f64       ┆ f64       ┆ f64       ┆ f64       ┆   ┆ f64       ┆           ┆           ┆ str      │\n",
      "╞═══════════╪═══════════╪═══════════╪═══════════╪═══╪═══════════╪═══════════╪═══════════╪══════════╡\n",
      "│ 1.091829  ┆ 1.002669  ┆ 0.894285  ┆ 0.767492  ┆ … ┆ 1.422093  ┆ 4060Ti16G ┆ train     ┆ half     │\n",
      "│           ┆           ┆           ┆           ┆   ┆           ┆ B /       ┆           ┆          │\n",
      "│           ┆           ┆           ┆           ┆   ┆           ┆ 6800XT    ┆           ┆          │\n",
      "│ 0.62347   ┆ 0.659073  ┆ 0.585618  ┆ 0.560523  ┆ … ┆ 1.09736   ┆ 4060Ti16G ┆ train     ┆ float    │\n",
      "│           ┆           ┆           ┆           ┆   ┆           ┆ B /       ┆           ┆          │\n",
      "│           ┆           ┆           ┆           ┆   ┆           ┆ 6800XT    ┆           ┆          │\n",
      "│ 0.625513  ┆ 0.877023  ┆ 0.989719  ┆ 1.262352  ┆ … ┆ 1.973049  ┆ 4060Ti16G ┆ train     ┆ double   │\n",
      "│           ┆           ┆           ┆           ┆   ┆           ┆ B /       ┆           ┆          │\n",
      "│           ┆           ┆           ┆           ┆   ┆           ┆ 6800XT    ┆           ┆          │\n",
      "│ 2.597603  ┆ 2.038304  ┆ 2.1261    ┆ 1.930876  ┆ … ┆ 2.057425  ┆ 4060Ti16G ┆ inference ┆ half     │\n",
      "│           ┆           ┆           ┆           ┆   ┆           ┆ B /       ┆           ┆          │\n",
      "│           ┆           ┆           ┆           ┆   ┆           ┆ 6800XT    ┆           ┆          │\n",
      "│ 1.123484  ┆ 1.223404  ┆ 1.09674   ┆ 0.785765  ┆ … ┆ 1.201515  ┆ 4060Ti16G ┆ inference ┆ float    │\n",
      "│           ┆           ┆           ┆           ┆   ┆           ┆ B /       ┆           ┆          │\n",
      "│           ┆           ┆           ┆           ┆   ┆           ┆ 6800XT    ┆           ┆          │\n",
      "│ 1.29145   ┆ 1.584353  ┆ 1.673932  ┆ 1.840633  ┆ … ┆ 2.140913  ┆ 4060Ti16G ┆ inference ┆ double   │\n",
      "│           ┆           ┆           ┆           ┆   ┆           ┆ B /       ┆           ┆          │\n",
      "│           ┆           ┆           ┆           ┆   ┆           ┆ 6800XT    ┆           ┆          │\n",
      "└───────────┴───────────┴───────────┴───────────┴───┴───────────┴───────────┴───────────┴──────────┘\n"
     ]
    }
   ],
   "source": [
    "for other in other_gpu_names:\n",
    "    other_folder = 'results/' + other\n",
    "    other_df = get_df(other, other_folder)\n",
    "    extra = other_df[exclude_cols]\n",
    "    comp_df = (other_df.select(pl.exclude(exclude_cols)) / my_df.select(pl.exclude(exclude_cols)))\n",
    "    comp_df = comp_df.with_columns(\n",
    "        pl.all().mean().round().name.suffix('_mean'),\n",
    "        pl.lit(comp_df.mean_horizontal()).alias('mean_horizontal'),\n",
    "    )\n",
    "    comp_df = comp_df.hstack(extra).with_columns(pl.col('gpu_name') + f' / {my_gpu_name}')\n",
    "    print(f'{other} / {my_gpu_name} {comp_df = }')\n",
    "    "
   ],
   "metadata": {
    "collapsed": false,
    "ExecuteTime": {
     "end_time": "2024-03-07T08:46:10.102050Z",
     "start_time": "2024-03-07T08:46:10.078380Z"
    }
   },
   "id": "aed4a7a69d516e74",
   "execution_count": 57
  },
  {
   "cell_type": "code",
   "outputs": [],
   "source": [],
   "metadata": {
    "collapsed": false
   },
   "id": "463526475c17f7cf"
  }
 ],
 "metadata": {
  "kernelspec": {
   "display_name": "Python 3",
   "language": "python",
   "name": "python3"
  },
  "language_info": {
   "codemirror_mode": {
    "name": "ipython",
    "version": 2
   },
   "file_extension": ".py",
   "mimetype": "text/x-python",
   "name": "python",
   "nbconvert_exporter": "python",
   "pygments_lexer": "ipython2",
   "version": "2.7.6"
  }
 },
 "nbformat": 4,
 "nbformat_minor": 5
}
